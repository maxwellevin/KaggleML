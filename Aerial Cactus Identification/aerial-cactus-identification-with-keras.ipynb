{
 "cells": [
  {
   "cell_type": "markdown",
   "metadata": {},
   "source": [
    "# Aerial Cactus Identification with Keras\n",
    "\n",
    "This kernel shows my finished work for this competition. I made a simple convolutional neural network with keras and trained it on a subset of the available data. The main breakthrough for me was creating a training set with an equal number of images of each class. One challenge I ran into was loading a model with the tensorflow.keras module -- it just doesn't seem to work with Tensorflow 1.13. To fix this I just used the original keras module as many others did. \n",
    "\n",
    "I am amazed by the quality and quantity of work that so many people put into this competition, and it was inspirational reading many polished kernels when I was getting started."
   ]
  },
  {
   "cell_type": "markdown",
   "metadata": {},
   "source": [
    "## Step 1: Examine the data\n",
    "\n",
    "The first step in any data science project is to get an understanding of what you are working with. In this step, I declare my imports and paths to important locations on disk, load some data into memory, and examine it more closely."
   ]
  },
  {
   "cell_type": "code",
   "execution_count": 1,
   "metadata": {
    "_cell_guid": "79c7e3d0-c299-4dcb-8224-4455121ee9b0",
    "_uuid": "d629ff2d2480ee46fbb7e2d37f6b5fab8052498a"
   },
   "outputs": [
    {
     "name": "stderr",
     "output_type": "stream",
     "text": [
      "Using TensorFlow backend.\n"
     ]
    }
   ],
   "source": [
    "import os\n",
    "import cv2\n",
    "import numpy as np\n",
    "import pandas as pd\n",
    "import matplotlib.pyplot as plt\n",
    "import seaborn as sns\n",
    "from keras.preprocessing.image import load_img, img_to_array, ImageDataGenerator\n",
    "from keras.models import Sequential, load_model\n",
    "from keras.layers import Conv2D, Dense, Dropout, Flatten, MaxPooling2D\n",
    "from keras.optimizers import Adam\n",
    "from keras.callbacks import ModelCheckpoint, ReduceLROnPlateau, EarlyStopping\n",
    "\n",
    "sns.set()"
   ]
  },
  {
   "cell_type": "code",
   "execution_count": 2,
   "metadata": {},
   "outputs": [],
   "source": [
    "cactus_dir = \"../input/aerial-cactus-identification/\"\n",
    "train_dir = cactus_dir + \"/train/train/\"\n",
    "test_dir = cactus_dir + \"/test/test/\"\n",
    "\n",
    "df_train_data = pd.read_csv(cactus_dir + \"/train.csv\")\n",
    "df_train_data['has_cactus'] = df_train_data['has_cactus'].astype(str)\n",
    "\n",
    "df_test = pd.read_csv(cactus_dir + \"/sample_submission.csv\")"
   ]
  },
  {
   "cell_type": "markdown",
   "metadata": {},
   "source": [
    "Let's see what the 'train.csv' file has for us"
   ]
  },
  {
   "cell_type": "code",
   "execution_count": 3,
   "metadata": {},
   "outputs": [
    {
     "data": {
      "text/html": [
       "<div>\n",
       "<style scoped>\n",
       "    .dataframe tbody tr th:only-of-type {\n",
       "        vertical-align: middle;\n",
       "    }\n",
       "\n",
       "    .dataframe tbody tr th {\n",
       "        vertical-align: top;\n",
       "    }\n",
       "\n",
       "    .dataframe thead th {\n",
       "        text-align: right;\n",
       "    }\n",
       "</style>\n",
       "<table border=\"1\" class=\"dataframe\">\n",
       "  <thead>\n",
       "    <tr style=\"text-align: right;\">\n",
       "      <th></th>\n",
       "      <th>id</th>\n",
       "      <th>has_cactus</th>\n",
       "    </tr>\n",
       "  </thead>\n",
       "  <tbody>\n",
       "    <tr>\n",
       "      <th>0</th>\n",
       "      <td>0004be2cfeaba1c0361d39e2b000257b.jpg</td>\n",
       "      <td>1</td>\n",
       "    </tr>\n",
       "    <tr>\n",
       "      <th>1</th>\n",
       "      <td>000c8a36845c0208e833c79c1bffedd1.jpg</td>\n",
       "      <td>1</td>\n",
       "    </tr>\n",
       "    <tr>\n",
       "      <th>2</th>\n",
       "      <td>000d1e9a533f62e55c289303b072733d.jpg</td>\n",
       "      <td>1</td>\n",
       "    </tr>\n",
       "    <tr>\n",
       "      <th>3</th>\n",
       "      <td>0011485b40695e9138e92d0b3fb55128.jpg</td>\n",
       "      <td>1</td>\n",
       "    </tr>\n",
       "    <tr>\n",
       "      <th>4</th>\n",
       "      <td>0014d7a11e90b62848904c1418fc8cf2.jpg</td>\n",
       "      <td>1</td>\n",
       "    </tr>\n",
       "  </tbody>\n",
       "</table>\n",
       "</div>"
      ],
      "text/plain": [
       "                                     id has_cactus\n",
       "0  0004be2cfeaba1c0361d39e2b000257b.jpg          1\n",
       "1  000c8a36845c0208e833c79c1bffedd1.jpg          1\n",
       "2  000d1e9a533f62e55c289303b072733d.jpg          1\n",
       "3  0011485b40695e9138e92d0b3fb55128.jpg          1\n",
       "4  0014d7a11e90b62848904c1418fc8cf2.jpg          1"
      ]
     },
     "execution_count": 3,
     "metadata": {},
     "output_type": "execute_result"
    }
   ],
   "source": [
    "df_train_data.head()"
   ]
  },
  {
   "cell_type": "markdown",
   "metadata": {},
   "source": [
    "We see that each row is a filename ('id') and a class ('has_cactus'). Now let's see how many of each class we have:"
   ]
  },
  {
   "cell_type": "code",
   "execution_count": 4,
   "metadata": {},
   "outputs": [
    {
     "name": "stdout",
     "output_type": "stream",
     "text": [
      "The number of training images is: 17500\n"
     ]
    },
    {
     "data": {
      "text/plain": [
       "1    13136\n",
       "0     4364\n",
       "Name: has_cactus, dtype: int64"
      ]
     },
     "execution_count": 4,
     "metadata": {},
     "output_type": "execute_result"
    }
   ],
   "source": [
    "print(\"The number of training images is: {}\".format(len(df_train_data)))\n",
    "\n",
    "df_train_data['has_cactus'].value_counts()"
   ]
  },
  {
   "cell_type": "markdown",
   "metadata": {},
   "source": [
    "So we have 17500 images total and just 4364 do not have a cactus in them. In other words, 75% of the training data consists of images with a cactus in it. To achieve better-than-random results, we'll have to do better than that. \n",
    "\n",
    "Now let's see what some of these images look like:"
   ]
  },
  {
   "cell_type": "code",
   "execution_count": 5,
   "metadata": {},
   "outputs": [
    {
     "data": {
      "image/png": "[encoded data removed]",
      "text/plain": [
       "<Figure size 1152x1152 with 16 Axes>"
      ]
     },
     "metadata": {
      "needs_background": "light"
     },
     "output_type": "display_data"
    }
   ],
   "source": [
    "display, axes = plt.subplots(4, 4, figsize=(16, 16))\n",
    "imgs = []\n",
    "labels = []\n",
    "for i, row in df_train_data.head(16).iterrows():\n",
    "    fname = os.path.join(train_dir, row['id'])\n",
    "    imgs.append(load_img(fname))\n",
    "    labels.append('Cactus' if row['has_cactus'] == '1' else 'No Cactus')\n",
    "\n",
    "for i, ax in enumerate(axes.reshape(-1)):\n",
    "    ax.imshow(imgs[i])\n",
    "    ax.set_title(labels[i])\n",
    "    ax.axis('off')\n",
    "plt.show()"
   ]
  },
  {
   "cell_type": "markdown",
   "metadata": {},
   "source": [
    "Looking at a single image it is hard to immediately recognize that there is a cactus present. When we look at the images altogether a pattern is more clear -- long, straight lines seem to be the strongest identifier of a cactus in the images above. A simple convolutional network would probably do well on this data because it will be able to identify those long, straight features."
   ]
  },
  {
   "cell_type": "markdown",
   "metadata": {},
   "source": [
    "## Step 2: Prepare the Data for Keras\n",
    "\n",
    "This is one of the most important steps in the ML process. If your data isn't prepared the right way for your model, then you might as well not have it. Luckily for us, the data has already been collected and formatted quite nicely. The remaining steps for us are to build training and validation sets, create a pipeline to load images into memory, and set up the ImageDataGenerator class from Keras to do some training data augmentation. "
   ]
  },
  {
   "cell_type": "markdown",
   "metadata": {},
   "source": [
    "### Training and Validation Sets\n",
    "We need to create training and validation sets for our model. It is critical that these sets are disjoint -- no shared elements -- so that the validation set can be a true measure of our model's performance as it learns on the training data. \n",
    "\n",
    "I decided that my training set should be 50% images with a cactus and 50% images without a cactus so that the model would not initially have a bias towards classifing images as containing a cactus. On the other hand, I wanted my validation set to be 75% images with a cactus and 25% images without a cactus so it would be representative of the data overall.  "
   ]
  },
  {
   "cell_type": "code",
   "execution_count": 6,
   "metadata": {},
   "outputs": [],
   "source": [
    "has_cactus = df_train_data[df_train_data['has_cactus'] == '1']\n",
    "not_cactus = df_train_data[df_train_data['has_cactus'] == '0']"
   ]
  },
  {
   "cell_type": "code",
   "execution_count": 7,
   "metadata": {},
   "outputs": [
    {
     "data": {
      "text/plain": [
       "0    3491\n",
       "1    3491\n",
       "Name: has_cactus, dtype: int64"
      ]
     },
     "execution_count": 7,
     "metadata": {},
     "output_type": "execute_result"
    }
   ],
   "source": [
    "# Want 80% of not_cactus to make up 50% of the training set\n",
    "df_train = not_cactus[:3491]\n",
    "df_train = df_train.append(has_cactus[:3491])\n",
    "df_train = df_train.sample(frac=1).reset_index(drop=True)\n",
    "\n",
    "df_train['has_cactus'].value_counts()"
   ]
  },
  {
   "cell_type": "code",
   "execution_count": 8,
   "metadata": {},
   "outputs": [
    {
     "data": {
      "text/plain": [
       "1    2619\n",
       "0     873\n",
       "Name: has_cactus, dtype: int64"
      ]
     },
     "execution_count": 8,
     "metadata": {},
     "output_type": "execute_result"
    }
   ],
   "source": [
    "# Want remainder of not_cactus to make up 25% of the validation set\n",
    "df_valid = not_cactus[3491:]  # Has 873 elements\n",
    "df_valid = df_valid.append(has_cactus[3491:3491 + 873*3])\n",
    "df_valid = df_valid.sample(frac=1).reset_index(drop=True)\n",
    "\n",
    "df_valid['has_cactus'].value_counts()"
   ]
  },
  {
   "cell_type": "markdown",
   "metadata": {},
   "source": [
    "### Data Augmentation and Pipeline\n",
    "\n",
    "Now that our training and validation sets have been established we can move on to the next step in the process, which is to create a pipeline to feed training images to our network. This is the part that I was most intimidated by when I first started coding in this competition, but tinkering with this next bit turned out to be one of my favorite parts of the whole thing. Keras makes this pretty straightforward:"
   ]
  },
  {
   "cell_type": "code",
   "execution_count": 9,
   "metadata": {},
   "outputs": [],
   "source": [
    "# Data augmentation for training data\n",
    "train_datagen = ImageDataGenerator(rotation_range=50, \n",
    "                                   width_shift_range=0.2, \n",
    "                                   height_shift_range=0.2, \n",
    "                                   horizontal_flip=True, \n",
    "                                   rescale=1./255)\n",
    "\n",
    "# No augmentation for validation data\n",
    "valid_datagen = ImageDataGenerator(rescale=1./255)"
   ]
  },
  {
   "cell_type": "markdown",
   "metadata": {},
   "source": [
    "Keras also gives you an option to resize your images. I also scaled up the images by a factor of 2 here because that seemed to work better when I was testing."
   ]
  },
  {
   "cell_type": "code",
   "execution_count": 10,
   "metadata": {},
   "outputs": [
    {
     "name": "stdout",
     "output_type": "stream",
     "text": [
      "Found 6982 validated image filenames belonging to 2 classes.\n",
      "Found 3492 validated image filenames belonging to 2 classes.\n"
     ]
    }
   ],
   "source": [
    "# Parameters for resizing the image and number of images in a training/validation batch\n",
    "new_image_size = 64\n",
    "batch_size = 128\n",
    "\n",
    "# Data pipeline: filename - dataframe --> image on disk --> keras model\n",
    "\n",
    "# Training data pipeline\n",
    "train_generator = train_datagen.flow_from_dataframe(df_train, \n",
    "                                                    directory=train_dir, \n",
    "                                                    x_col='id', \n",
    "                                                    y_col='has_cactus', \n",
    "                                                    target_size=(new_image_size, new_image_size), \n",
    "                                                    class_mode='binary', \n",
    "                                                    batch_size=batch_size)\n",
    "\n",
    "# Validation: exactly the same except flows from validation dataframe\n",
    "valid_generator = valid_datagen.flow_from_dataframe(df_valid, \n",
    "                                                    directory=train_dir, \n",
    "                                                    x_col='id', \n",
    "                                                    y_col='has_cactus', \n",
    "                                                    target_size=(new_image_size, new_image_size),\n",
    "                                                    class_mode='binary',\n",
    "                                                    batch_size=batch_size)"
   ]
  },
  {
   "cell_type": "markdown",
   "metadata": {},
   "source": [
    "## Step 3: Building and Training a Convolutional Network\n",
    "\n",
    "In this part we need to build our model, train it on our training data, and see how it performs. Once again, Keras makes this pretty straightforward.\n",
    "\n",
    "### Building a Model\n",
    "\n",
    "We use the Keras Sequential API because this problem does not seem to require complex network architectures that the functional API is capable of providing. A simple CNN with some regularization (Dropout and Maxpooling2D) should do just fine! Here's my network:"
   ]
  },
  {
   "cell_type": "code",
   "execution_count": 11,
   "metadata": {},
   "outputs": [
    {
     "name": "stdout",
     "output_type": "stream",
     "text": [
      "_________________________________________________________________\n",
      "Layer (type)                 Output Shape              Param #   \n",
      "=================================================================\n",
      "conv2d_1 (Conv2D)            (None, 62, 62, 32)        896       \n",
      "_________________________________________________________________\n",
      "dropout_1 (Dropout)          (None, 62, 62, 32)        0         \n",
      "_________________________________________________________________\n",
      "max_pooling2d_1 (MaxPooling2 (None, 31, 31, 32)        0         \n",
      "_________________________________________________________________\n",
      "conv2d_2 (Conv2D)            (None, 29, 29, 64)        18496     \n",
      "_________________________________________________________________\n",
      "dropout_2 (Dropout)          (None, 29, 29, 64)        0         \n",
      "_________________________________________________________________\n",
      "max_pooling2d_2 (MaxPooling2 (None, 14, 14, 64)        0         \n",
      "_________________________________________________________________\n",
      "conv2d_3 (Conv2D)            (None, 12, 12, 128)       73856     \n",
      "_________________________________________________________________\n",
      "dropout_3 (Dropout)          (None, 12, 12, 128)       0         \n",
      "_________________________________________________________________\n",
      "max_pooling2d_3 (MaxPooling2 (None, 6, 6, 128)         0         \n",
      "_________________________________________________________________\n",
      "conv2d_4 (Conv2D)            (None, 4, 4, 512)         590336    \n",
      "_________________________________________________________________\n",
      "dropout_4 (Dropout)          (None, 4, 4, 512)         0         \n",
      "_________________________________________________________________\n",
      "max_pooling2d_4 (MaxPooling2 (None, 2, 2, 512)         0         \n",
      "_________________________________________________________________\n",
      "flatten_1 (Flatten)          (None, 2048)              0         \n",
      "_________________________________________________________________\n",
      "dense_1 (Dense)              (None, 256)               524544    \n",
      "_________________________________________________________________\n",
      "dropout_5 (Dropout)          (None, 256)               0         \n",
      "_________________________________________________________________\n",
      "dense_2 (Dense)              (None, 1)                 257       \n",
      "=================================================================\n",
      "Total params: 1,208,385\n",
      "Trainable params: 1,208,385\n",
      "Non-trainable params: 0\n",
      "_________________________________________________________________\n"
     ]
    }
   ],
   "source": [
    "model = Sequential()\n",
    "model.add(Conv2D(32, (3, 3), input_shape=(new_image_size, new_image_size, 3), activation='relu'))\n",
    "model.add(Dropout(0.2))\n",
    "model.add(MaxPooling2D((2,2)))\n",
    "model.add(Conv2D(64, (3, 3), activation='relu'))\n",
    "model.add(Dropout(0.2))\n",
    "model.add(MaxPooling2D((2,2)))\n",
    "model.add(Conv2D(128, (3,3), activation='relu'))\n",
    "model.add(Dropout(0.2))\n",
    "model.add(MaxPooling2D((2,2)))\n",
    "model.add(Conv2D(512, (3,3), activation='relu'))\n",
    "model.add(Dropout(0.2))\n",
    "model.add(MaxPooling2D((2,2)))\n",
    "model.add(Flatten())\n",
    "model.add(Dense(256, activation='relu'))\n",
    "model.add(Dropout(0.2))\n",
    "model.add(Dense(1, activation='sigmoid'))\n",
    "\n",
    "model.summary()"
   ]
  },
  {
   "cell_type": "markdown",
   "metadata": {},
   "source": [
    "Now we compile the model using the AdamOptimizer with default settings and Binary Crossentropy as our loss metric. Accuracy is monitored because we need to be able to report how our model does on the training and validation sets. Additionally, we also create several callbacks which will help us during training. "
   ]
  },
  {
   "cell_type": "code",
   "execution_count": 12,
   "metadata": {},
   "outputs": [],
   "source": [
    "model.compile(optimizer='adam', \n",
    "              loss='binary_crossentropy', \n",
    "              metrics=['accuracy'])"
   ]
  },
  {
   "cell_type": "code",
   "execution_count": 13,
   "metadata": {},
   "outputs": [],
   "source": [
    "# Save the model every time its best validation accuracy improves\n",
    "checkpoint = ModelCheckpoint(\"model.hdf5\", \n",
    "                             monitor='val_acc', \n",
    "                             verbose=1, \n",
    "                             save_best_only=True, \n",
    "                             mode='max')\n",
    "\n",
    "# Reduce the learning rate when the model's performance begins to stagnate \n",
    "reduce_lr = ReduceLROnPlateau(monitor='val_acc', \n",
    "                              factor=.2,\n",
    "                              patience=10, \n",
    "                              min_lr=1e-9,\n",
    "                              verbose=1)\n",
    "\n",
    "# Using early stopping with a high patience value to balance improvement & my own patience\n",
    "early_stop = EarlyStopping(monitor='val_acc', \n",
    "                           patience=100, \n",
    "                           verbose=1, \n",
    "                           mode='auto', \n",
    "                           baseline=None, \n",
    "                           restore_best_weights=True)"
   ]
  },
  {
   "cell_type": "markdown",
   "metadata": {},
   "source": [
    "### Training the Model\n",
    "\n",
    "Now that our model is compiled and we've setup some callbacks to use during training, we can finally train our model. Note that we use model.fit_generator instead of model.fit because we set up our data pipeline with generators. This takes quite a while, so I'm going to load the model that I trained overnight on my own computer instead. "
   ]
  },
  {
   "cell_type": "code",
   "execution_count": 14,
   "metadata": {},
   "outputs": [],
   "source": [
    "# hist = model.fit_generator(train_generator, \n",
    "#                            steps_per_epoch=len(df_train)//batch_size, \n",
    "#                            epochs=1000, \n",
    "#                            validation_data=valid_generator, \n",
    "#                            validation_steps=len(df_valid)//batch_size, \n",
    "#                            callbacks=[checkpoint, reduce_lr, early_stop],\n",
    "#                            verbose=0)\n",
    "\n",
    "model = load_model('../input/best-model-1/model.hdf5')"
   ]
  },
  {
   "cell_type": "markdown",
   "metadata": {},
   "source": [
    "Normally, I would plot the model's accuracy as a function of the number of epochs it trained, but we can't do this when we are just loading the model, so this is commented out here."
   ]
  },
  {
   "cell_type": "code",
   "execution_count": 15,
   "metadata": {},
   "outputs": [],
   "source": [
    "# def plot_from_history(history):\n",
    "#     history_dict = history.history\n",
    "#     loss = history_dict['loss']\n",
    "#     val_loss = history_dict['val_loss']\n",
    "#     acc = history_dict['acc']\n",
    "#     val_acc = history_dict['val_acc']\n",
    "#     epochs = range(1, len(loss) + 1)\n",
    "    \n",
    "#     fig, ax1 = plt.subplots(1, figsize=(8, 4), dpi=150)\n",
    "#     ax1.set_title('Accuracy vs Epoch')\n",
    "#     ax1.plot(epochs, acc, label='Training Accuracy')\n",
    "#     ax1.plot(epochs, val_acc, label='Validation Accuracy')\n",
    "#     ax1.legend(loc='best')\n",
    "#     plt.show()\n",
    "\n",
    "# plot_from_history(hist)"
   ]
  },
  {
   "cell_type": "markdown",
   "metadata": {},
   "source": [
    "We report the model's final validation accuracy so we know what to expect for our results (This can be done when loading the model)."
   ]
  },
  {
   "cell_type": "code",
   "execution_count": 16,
   "metadata": {},
   "outputs": [
    {
     "data": {
      "text/plain": [
       "[0.01134091289282811, 0.9973958333333334]"
      ]
     },
     "execution_count": 16,
     "metadata": {},
     "output_type": "execute_result"
    }
   ],
   "source": [
    "model.evaluate_generator(valid_generator, steps=len(df_valid)//batch_size)"
   ]
  },
  {
   "cell_type": "markdown",
   "metadata": {},
   "source": [
    "## Making Predictions\n",
    "\n",
    "Now that the model is trained, we can use it to make predictions on the test data. This will be what we submit to the competition. Our first step is to load the test data into memory, which we can do with the keras.preprocessing.image load_img and img_to_array functions. "
   ]
  },
  {
   "cell_type": "code",
   "execution_count": 17,
   "metadata": {},
   "outputs": [
    {
     "data": {
      "text/plain": [
       "(4000, 64, 64, 3)"
      ]
     },
     "execution_count": 17,
     "metadata": {},
     "output_type": "execute_result"
    }
   ],
   "source": [
    "test_fnames = []\n",
    "test_imgs = []\n",
    "for fname in os.listdir(test_dir):\n",
    "    test_fnames.append(fname)\n",
    "    img = load_img(test_dir + fname, target_size=(new_image_size, new_image_size, 3))\n",
    "    img = img_to_array(img) / 255\n",
    "    test_imgs.append(img)\n",
    "test_imgs = np.array(test_imgs)\n",
    "\n",
    "test_imgs.shape"
   ]
  },
  {
   "cell_type": "markdown",
   "metadata": {},
   "source": [
    "Now we make the predictions (Note that I do not use the predict_classes function):"
   ]
  },
  {
   "cell_type": "code",
   "execution_count": 18,
   "metadata": {},
   "outputs": [
    {
     "data": {
      "text/plain": [
       "array([[1.2218952e-06],\n",
       "       [1.0000000e+00],\n",
       "       [1.0000000e+00],\n",
       "       [1.0000000e+00],\n",
       "       [1.0000000e+00]], dtype=float32)"
      ]
     },
     "execution_count": 18,
     "metadata": {},
     "output_type": "execute_result"
    }
   ],
   "source": [
    "pred = model.predict(test_imgs)\n",
    "pred[:5]"
   ]
  },
  {
   "cell_type": "markdown",
   "metadata": {},
   "source": [
    "Finally, we save the predictions to the disk. Make sure to set index=False, otherwise you'll end up with an extra column in your csv file that you submit... I learned that the hard way."
   ]
  },
  {
   "cell_type": "code",
   "execution_count": 19,
   "metadata": {},
   "outputs": [
    {
     "data": {
      "text/html": [
       "<div>\n",
       "<style scoped>\n",
       "    .dataframe tbody tr th:only-of-type {\n",
       "        vertical-align: middle;\n",
       "    }\n",
       "\n",
       "    .dataframe tbody tr th {\n",
       "        vertical-align: top;\n",
       "    }\n",
       "\n",
       "    .dataframe thead th {\n",
       "        text-align: right;\n",
       "    }\n",
       "</style>\n",
       "<table border=\"1\" class=\"dataframe\">\n",
       "  <thead>\n",
       "    <tr style=\"text-align: right;\">\n",
       "      <th></th>\n",
       "      <th>id</th>\n",
       "      <th>has_cactus</th>\n",
       "    </tr>\n",
       "  </thead>\n",
       "  <tbody>\n",
       "    <tr>\n",
       "      <th>0</th>\n",
       "      <td>34d12362206bf3becb77fb0e50ec7a6b.jpg</td>\n",
       "      <td>0.000001</td>\n",
       "    </tr>\n",
       "    <tr>\n",
       "      <th>1</th>\n",
       "      <td>b90d27d9ab51c85ebf2b7c3610f9650f.jpg</td>\n",
       "      <td>1.000000</td>\n",
       "    </tr>\n",
       "    <tr>\n",
       "      <th>2</th>\n",
       "      <td>1a1ca91fbd12af9c4cd4d1079b8c832c.jpg</td>\n",
       "      <td>1.000000</td>\n",
       "    </tr>\n",
       "    <tr>\n",
       "      <th>3</th>\n",
       "      <td>36219f1335a4d56041fa1139a9c27f3f.jpg</td>\n",
       "      <td>1.000000</td>\n",
       "    </tr>\n",
       "    <tr>\n",
       "      <th>4</th>\n",
       "      <td>bde96aabc07264b2ca48d7f23dde6964.jpg</td>\n",
       "      <td>1.000000</td>\n",
       "    </tr>\n",
       "  </tbody>\n",
       "</table>\n",
       "</div>"
      ],
      "text/plain": [
       "                                     id  has_cactus\n",
       "0  34d12362206bf3becb77fb0e50ec7a6b.jpg    0.000001\n",
       "1  b90d27d9ab51c85ebf2b7c3610f9650f.jpg    1.000000\n",
       "2  1a1ca91fbd12af9c4cd4d1079b8c832c.jpg    1.000000\n",
       "3  36219f1335a4d56041fa1139a9c27f3f.jpg    1.000000\n",
       "4  bde96aabc07264b2ca48d7f23dde6964.jpg    1.000000"
      ]
     },
     "execution_count": 19,
     "metadata": {},
     "output_type": "execute_result"
    }
   ],
   "source": [
    "submission = pd.DataFrame()\n",
    "submission['id'] = test_fnames\n",
    "submission['has_cactus'] = pred\n",
    "submission.to_csv('submission.csv', index=False)\n",
    "\n",
    "submission.head()"
   ]
  }
 ],
 "metadata": {
  "kernelspec": {
   "display_name": "Python 3",
   "language": "python",
   "name": "python3"
  },
  "language_info": {
   "codemirror_mode": {
    "name": "ipython",
    "version": 3
   },
   "file_extension": ".py",
   "mimetype": "text/x-python",
   "name": "python",
   "nbconvert_exporter": "python",
   "pygments_lexer": "ipython3",
   "version": "3.6.6"
  }
 },
 "nbformat": 4,
 "nbformat_minor": 1
}
